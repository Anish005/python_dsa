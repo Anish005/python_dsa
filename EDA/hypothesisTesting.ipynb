{
 "cells": [
  {
   "cell_type": "code",
   "execution_count": 1,
   "metadata": {},
   "outputs": [],
   "source": [
    "import numpy as np\n",
    "import scipy.stats as stats"
   ]
  },
  {
   "cell_type": "code",
   "execution_count": 2,
   "metadata": {},
   "outputs": [
    {
     "data": {
      "text/plain": [
       "'\\nA university professor gave online lectures instead of\\nface-to-face classes due to Covid-19. Later, he uploaded recorded \\nlectures to the cloud for students who followed the course asynchronously\\n(those who did not attend the lesson but later watched the records). \\nHowever, he believes that the students who attend class at the class time \\nand participate in the process are more successful. Therefore, he recorded the \\naverage grades of the students at the end of the semester. The data is below.\\n'"
      ]
     },
     "execution_count": 2,
     "metadata": {},
     "output_type": "execute_result"
    }
   ],
   "source": [
    "'''\n",
    "A university professor gave online lectures instead of\n",
    "face-to-face classes due to Covid-19. Later, he uploaded recorded \n",
    "lectures to the cloud for students who followed the course asynchronously\n",
    "(those who did not attend the lesson but later watched the records). \n",
    "However, he believes that the students who attend class at the class time \n",
    "and participate in the process are more successful. Therefore, he recorded the \n",
    "average grades of the students at the end of the semester. The data is below.\n",
    "'''"
   ]
  },
  {
   "cell_type": "code",
   "execution_count": 4,
   "metadata": {},
   "outputs": [],
   "source": [
    "'''\n",
    "since the grades are obtained from the different individuals , the data is unpaired\n",
    "'''\n",
    "h0 = 'the data is normally distributed'\n",
    "h1 = 'the data is not normally distributed'"
   ]
  },
  {
   "cell_type": "code",
   "execution_count": 5,
   "metadata": {},
   "outputs": [],
   "source": [
    "def check_normality(data):\n",
    "  test_stat_normality, p_value_normality=stats.shapiro(data)\n",
    "  print(\"p value:%.4f\" % p_value_normality)\n",
    "  if p_value_normality <0.05:\n",
    "      print(\"Reject null hypothesis >> The data is not normally distributed\")\n",
    "  else:\n",
    "      print(\"Fail to reject null hypothesis >> The data is normally distributed\")"
   ]
  },
  {
   "cell_type": "code",
   "execution_count": 8,
   "metadata": {},
   "outputs": [],
   "source": [
    "def check_variance_homogeneity(group1, group2):\n",
    "    test_stat_var, p_value_var= stats.levene(group1,group2)\n",
    "    print(\"p value:%.4f\" % p_value_var)\n",
    "    if p_value_var <0.05:\n",
    "        print(\"Reject null hypothesis >> The variances of the samples are different.\")\n",
    "    else:\n",
    "        print(\"Fail to reject null hypothesis >> The variances of the samples are same.\")"
   ]
  },
  {
   "cell_type": "code",
   "execution_count": 10,
   "metadata": {},
   "outputs": [],
   "source": [
    "#performing  independent 2 sample test\n",
    "def parametric_test_for_2groups_unpaired_data(group1,group2):\n",
    "    ttest,p_value = stats.ttest_ind(group1,group2)\n",
    "    print(\"p value:%.8f\" % p_value)\n",
    "    print(\"since the hypothesis is one sided >> use p_value/2 >> p_value_one_sided:%.4f\" %(p_value/2))\n",
    "    if p_value/2 <0.05:\n",
    "        print(\"Reject null hypothesis\")\n",
    "    else:\n",
    "        print(\"Fail to reject null hypothesis\")\n",
    "    "
   ]
  },
  {
   "cell_type": "code",
   "execution_count": 11,
   "metadata": {},
   "outputs": [
    {
     "name": "stdout",
     "output_type": "stream",
     "text": [
      "p value:0.6556\n",
      "Fail to reject null hypothesis >> The data is normally distributed\n",
      "p value:0.0803\n",
      "Fail to reject null hypothesis >> The data is normally distributed\n",
      "p value:0.8149\n",
      "Fail to reject null hypothesis >> The variances of the samples are same.\n",
      "p value:0.00753598\n",
      "since the hypothesis is one sided >> use p_value/2 >> p_value_one_sided:0.0038\n",
      "Reject null hypothesis\n"
     ]
    }
   ],
   "source": [
    "synchronous = [94. , 84.9, 82.6, 69.5, 80.1, 79.6, 81.4, 77.8, 81.7, 78.8, 73.2, 87.9, 87.9, 93.5, 82.3, 79.3, 78.3, 71.6,88.6,74.6, 74.1, 80.6]\n",
    "asynchronous = [77.1, 71.7, 91. , 72.2, 74.8, 85.1, 67.6, 69.9, 75.3, 71.7, 65.7, 72.6, 71.5, 78.2]\n",
    "\n",
    "sync = np.array(synchronous)\n",
    "asyncr = np.array(asynchronous)\n",
    "\n",
    "check_normality(sync)\n",
    "check_normality(asyncr)\n",
    "check_variance_homogeneity(sync, asyncr)\n",
    "#after the assumptions are satisfied we can perform the parametric version of the test for 2 groups and unpaired data\n",
    "parametric_test_for_2groups_unpaired_data(sync,asyncr)"
   ]
  },
  {
   "cell_type": "code",
   "execution_count": null,
   "metadata": {},
   "outputs": [],
   "source": []
  }
 ],
 "metadata": {
  "kernelspec": {
   "display_name": "Python 3",
   "language": "python",
   "name": "python3"
  },
  "language_info": {
   "codemirror_mode": {
    "name": "ipython",
    "version": 3
   },
   "file_extension": ".py",
   "mimetype": "text/x-python",
   "name": "python",
   "nbconvert_exporter": "python",
   "pygments_lexer": "ipython3",
   "version": "3.11.4"
  }
 },
 "nbformat": 4,
 "nbformat_minor": 2
}
