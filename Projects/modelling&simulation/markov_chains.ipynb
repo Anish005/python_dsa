{
 "cells": [
  {
   "cell_type": "code",
   "execution_count": 9,
   "metadata": {},
   "outputs": [],
   "source": [
    "import numpy as np"
   ]
  },
  {
   "cell_type": "markdown",
   "metadata": {},
   "source": [
    "## states"
   ]
  },
  {
   "cell_type": "code",
   "execution_count": 10,
   "metadata": {},
   "outputs": [
    {
     "data": {
      "text/plain": [
       "{0: 'Idli', 1: 'Vada', 2: 'Puri'}"
      ]
     },
     "execution_count": 10,
     "metadata": {},
     "output_type": "execute_result"
    }
   ],
   "source": [
    "state = {\n",
    "    0 : 'Idli',\n",
    "    1: 'Vada',\n",
    "    2: 'Puri'\n",
    "\n",
    "}\n",
    "state"
   ]
  },
  {
   "cell_type": "markdown",
   "metadata": {},
   "source": [
    "## transition matrix"
   ]
  },
  {
   "cell_type": "code",
   "execution_count": 11,
   "metadata": {},
   "outputs": [
    {
     "data": {
      "text/plain": [
       "array([[0.2, 0.6, 0.2],\n",
       "       [0.3, 0. , 0.7],\n",
       "       [0.5, 0. , 0.5]])"
      ]
     },
     "execution_count": 11,
     "metadata": {},
     "output_type": "execute_result"
    }
   ],
   "source": [
    "A  = np.array([[0.2,0.6,0.2],\n",
    "               [0.3,0.0,0.7],\n",
    "               [0.5,0.0,0.5]])\n",
    "A\n"
   ]
  },
  {
   "cell_type": "markdown",
   "metadata": {},
   "source": [
    "## Random walk on the markov chain\n"
   ]
  },
  {
   "cell_type": "code",
   "execution_count": 15,
   "metadata": {},
   "outputs": [
    {
     "name": "stdout",
     "output_type": "stream",
     "text": [
      "Idli ===> Idli ===> Vada ===> Puri ===> Puri ===> Idli ===> Vada ===> Idli ===> Vada ===> Puri ===> Idli ===> Puri ===> Puri ===> Puri ===> Idli ===> Idli ===> stop\n"
     ]
    }
   ],
   "source": [
    "def random_walk(n):\n",
    "    startState= 0\n",
    "    currState = startState\n",
    "    print(state[currState],\"===>\", end= ' ')\n",
    "    for i in range(n):\n",
    "        currState = np.random.choice([0,1,2],p=A[currState])\n",
    "        print(state[currState],'===>', end=' ')\n",
    "    print(\"stop\")\n",
    "random_walk(15)"
   ]
  },
  {
   "cell_type": "markdown",
   "metadata": {},
   "source": [
    "## Approach 1 Monte Carlo for computing stationary distribution"
   ]
  },
  {
   "cell_type": "code",
   "execution_count": 18,
   "metadata": {},
   "outputs": [
    {
     "name": "stdout",
     "output_type": "stream",
     "text": [
      "|| =  [0.352339 0.211207 0.436455]\n"
     ]
    }
   ],
   "source": [
    "def monte_carlo(steps):\n",
    "    startState = 0\n",
    "    currState =  startState\n",
    "    pi = np.array([0,0,0])\n",
    "    pi[startState] = 1\n",
    "    \n",
    "    for _ in range(steps):\n",
    "        currState = np.random.choice([0,1,2],p=A[currState])\n",
    "        pi[currState] += 1\n",
    "    print(\"|| = \", pi/steps)\n",
    "\n",
    "monte_carlo(10**6)"
   ]
  },
  {
   "cell_type": "markdown",
   "metadata": {},
   "source": [
    "## Approach 2 Repeated Matrix multiplication"
   ]
  },
  {
   "cell_type": "code",
   "execution_count": 21,
   "metadata": {},
   "outputs": [
    {
     "name": "stdout",
     "output_type": "stream",
     "text": [
      "A^n = \n",
      " [[0.35211268 0.21126761 0.43661972]\n",
      " [0.35211268 0.21126761 0.43661972]\n",
      " [0.35211268 0.21126761 0.43661972]] \n",
      "\n",
      "|| =  [0.35211268 0.21126761 0.43661972]\n"
     ]
    }
   ],
   "source": [
    "def repeated_matrix_multiplication(steps, A):\n",
    "    A_n  = A\n",
    "    for _ in range(steps):\n",
    "        A_n = np.matmul(A_n,A)\n",
    "    print(\"A^n = \\n\", A_n, '\\n')\n",
    "    print(\"|| = \", A_n[0])\n",
    "\n",
    "repeated_matrix_multiplication(10**3,A)"
   ]
  },
  {
   "cell_type": "markdown",
   "metadata": {},
   "source": [
    "## Finding left eigen vectors"
   ]
  },
  {
   "cell_type": "code",
   "execution_count": 24,
   "metadata": {},
   "outputs": [
    {
     "name": "stdout",
     "output_type": "stream",
     "text": [
      "left eigen vectors = \n",
      " [[-0.58746336+0.j         -0.16984156-0.35355339j -0.16984156+0.35355339j]\n",
      " [-0.35247801+0.j          0.67936622+0.j          0.67936622-0.j        ]\n",
      " [-0.72845456+0.j         -0.50952467+0.35355339j -0.50952467-0.35355339j]] \n",
      "\n",
      "eigen values= \n",
      " [ 1.  +0.j        -0.15+0.3122499j -0.15-0.3122499j]\n",
      "Normalized pi \n",
      " [0.3521126760563379, 0.21126760563380298, 0.43661971830985913]\n"
     ]
    }
   ],
   "source": [
    "import scipy.linalg\n",
    "\n",
    "def finding_left_eigen_vector(A):\n",
    "    values, left  =  scipy.linalg.eig(A, right =  False, left = True)\n",
    "    print(\"left eigen vectors = \\n\", left, '\\n')\n",
    "    print('eigen values= \\n' , values)\n",
    "    pi = left[:,0]\n",
    "    normalized_pi = [(i/np.sum(pi)).real for i in pi]\n",
    "    print('Normalized pi \\n',normalized_pi)\n",
    "    return normalized_pi\n",
    "    \n",
    "pi_normalized = finding_left_eigen_vector(A)"
   ]
  },
  {
   "cell_type": "markdown",
   "metadata": {},
   "source": [
    "## P(Vada==>Puri==>Puri==>Idli) =  ?"
   ]
  },
  {
   "cell_type": "code",
   "execution_count": 25,
   "metadata": {},
   "outputs": [
    {
     "name": "stdout",
     "output_type": "stream",
     "text": [
      "0.03697183098591552\n"
     ]
    }
   ],
   "source": [
    "def findProbability(sequence, A, pi):\n",
    "    startState  = sequence[0]\n",
    "    prob  = pi[startState]\n",
    "    prevState, currState = startState, startState\n",
    "    for i in range(1, len(sequence)):\n",
    "        currState = sequence[i]\n",
    "        prob *= A[prevState][currState]\n",
    "        prevState =  currState\n",
    "    return prob\n",
    "\n",
    "seq = [1,2,2,0]\n",
    "print(findProbability(seq,A,pi_normalized))"
   ]
  },
  {
   "cell_type": "code",
   "execution_count": null,
   "metadata": {},
   "outputs": [],
   "source": []
  }
 ],
 "metadata": {
  "kernelspec": {
   "display_name": "Python 3",
   "language": "python",
   "name": "python3"
  },
  "language_info": {
   "codemirror_mode": {
    "name": "ipython",
    "version": 3
   },
   "file_extension": ".py",
   "mimetype": "text/x-python",
   "name": "python",
   "nbconvert_exporter": "python",
   "pygments_lexer": "ipython3",
   "version": "3.11.4"
  }
 },
 "nbformat": 4,
 "nbformat_minor": 2
}
