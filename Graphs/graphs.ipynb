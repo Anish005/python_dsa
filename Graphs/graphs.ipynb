{
 "cells": [
  {
   "cell_type": "code",
   "execution_count": 1,
   "metadata": {},
   "outputs": [
    {
     "data": {
      "text/plain": [
       "(5, 7)"
      ]
     },
     "execution_count": 1,
     "metadata": {},
     "output_type": "execute_result"
    }
   ],
   "source": [
    "num_nodes= 5\n",
    "edges = [(0,1),(0,4),(1,2),(1,3),(3,4),(1,4),(2,3)] #edge in this case are bidirectional\n",
    "num_nodes,len(edges)"
   ]
  },
  {
   "cell_type": "code",
   "execution_count": 2,
   "metadata": {},
   "outputs": [
    {
     "data": {
      "text/plain": [
       "[[1], [1], [1], [1], [1], [1], [1], [1], [1], [1]]"
      ]
     },
     "execution_count": 2,
     "metadata": {},
     "output_type": "execute_result"
    }
   ],
   "source": [
    "l1 = [[]]*10 #same empty list same object ddont use this method to create a list of empty list as this\n",
    "l1[0].append(1)\n",
    "l1"
   ]
  },
  {
   "cell_type": "code",
   "execution_count": 3,
   "metadata": {},
   "outputs": [
    {
     "data": {
      "text/plain": [
       "[[1], [], [], [], [], [], [], [], [], []]"
      ]
     },
     "execution_count": 3,
     "metadata": {},
     "output_type": "execute_result"
    }
   ],
   "source": [
    "l2 = [[] for _ in range(10)] #notice the difference from above\n",
    "l2[0].append(1)\n",
    "l2"
   ]
  },
  {
   "cell_type": "code",
   "execution_count": 4,
   "metadata": {},
   "outputs": [
    {
     "name": "stdout",
     "output_type": "stream",
     "text": [
      "0 1\n",
      "0 4\n",
      "1 2\n",
      "1 3\n",
      "3 4\n",
      "1 4\n",
      "2 3\n"
     ]
    }
   ],
   "source": [
    "for n1,n2 in edges:\n",
    "    print(n1,n2)"
   ]
  },
  {
   "cell_type": "code",
   "execution_count": 5,
   "metadata": {},
   "outputs": [],
   "source": [
    "#adjacency list--> contains list of all nodes that are adjacent or neighbor to each other\n",
    "class Graph:\n",
    "    def __init__(self,num_nodes,edges):\n",
    "        self.num_nodes =  num_nodes\n",
    "        self.data = [[] for _ in range(num_nodes)]\n",
    "        for n1,n2 in edges:\n",
    "            self.data[n1].append(n2)\n",
    "            self.data[n2].append(n1)\n",
    "    \n",
    "    def __repr__(self):\n",
    "        \n",
    "       return \"\\n\".join([\"{}:{}\".format(n,neighbors) for n,neighbors in enumerate(self.data)])\n",
    "   \n",
    "    def __str__(self):\n",
    "        return self.__repr__()\n",
    "        "
   ]
  },
  {
   "cell_type": "code",
   "execution_count": 6,
   "metadata": {},
   "outputs": [
    {
     "data": {
      "text/plain": [
       "0:[1, 4]\n",
       "1:[0, 2, 3, 4]\n",
       "2:[1, 3]\n",
       "3:[1, 4, 2]\n",
       "4:[0, 3, 1]"
      ]
     },
     "execution_count": 6,
     "metadata": {},
     "output_type": "execute_result"
    }
   ],
   "source": [
    "graph1 = Graph(num_nodes,edges)\n",
    "graph1"
   ]
  },
  {
   "cell_type": "code",
   "execution_count": 7,
   "metadata": {},
   "outputs": [
    {
     "name": "stdout",
     "output_type": "stream",
     "text": [
      "(0, [1, 4])\n",
      "(1, [0, 2, 3, 4])\n",
      "(2, [1, 3])\n",
      "(3, [1, 4, 2])\n",
      "(4, [0, 3, 1])\n"
     ]
    }
   ],
   "source": [
    "for x in enumerate(graph1.data): #looks like the adjacency list\n",
    "    print(x)"
   ]
  },
  {
   "cell_type": "code",
   "execution_count": null,
   "metadata": {},
   "outputs": [],
   "source": [
    "#adjacency matrix\n"
   ]
  },
  {
   "cell_type": "code",
   "execution_count": 8,
   "metadata": {},
   "outputs": [],
   "source": [
    "#BFS---Breadth First Search---->how far away are the nodes from the root to calculate the shortest path\n",
    "#finding all the nodes from a distance 1,2,3,4,....k\n",
    "import queue\n",
    "\n",
    "def order_bfs(graph,start_node):\n",
    "    visited = set() # keeps ttrack of already visited note\n",
    "    q = queue.Queue()#FiFO\n",
    "    q.put(start_node)\n",
    "    order = [] #nodes in the bfs_order\n",
    "    \n",
    "    while not q.empty():#while nodes to be processed\n",
    "        vertex = q.get() #get it in the queue\n",
    "        if vertex not in visited: #for first time\n",
    "            order.append(vertex) #append to order\n",
    "            visited.add(vertex) #add to visited\n",
    "            for node in graph[vertex]: # all the neighbors of the vertex\n",
    "                    if  node not in visited:\n",
    "                        q.put(node)\n",
    "    return order\n",
    "#DFS ---Depth First Search\n",
    "def order_dfs(graph,start_node,visited = None):\n",
    "    if visited  is None:\n",
    "        visited = set()\n",
    "        \n",
    "    order = []\n",
    "    if start_node not in visited:\n",
    "        order.append(start_node)\n",
    "        visited.add(start_node)\n",
    "        for node in graph(start_node):\n",
    "            if node not in visited:\n",
    "                order.append(order_dfs(graph,node,visited))\n",
    "    \n",
    "    return order\n",
    "            \n",
    "            \n",
    "            \n",
    "            \n",
    "            \n",
    "    \n",
    "    \n",
    "\n"
   ]
  },
  {
   "cell_type": "code",
   "execution_count": null,
   "metadata": {},
   "outputs": [],
   "source": []
  },
  {
   "cell_type": "code",
   "execution_count": null,
   "metadata": {},
   "outputs": [],
   "source": []
  }
 ],
 "metadata": {
  "kernelspec": {
   "display_name": "Python 3",
   "language": "python",
   "name": "python3"
  },
  "language_info": {
   "codemirror_mode": {
    "name": "ipython",
    "version": 3
   },
   "file_extension": ".py",
   "mimetype": "text/x-python",
   "name": "python",
   "nbconvert_exporter": "python",
   "pygments_lexer": "ipython3",
   "version": "3.11.4"
  }
 },
 "nbformat": 4,
 "nbformat_minor": 2
}
